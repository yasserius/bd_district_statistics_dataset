{
 "cells": [
  {
   "cell_type": "code",
   "execution_count": 1,
   "metadata": {},
   "outputs": [],
   "source": [
    "import glob\n",
    "import os\n",
    "import pickle\n",
    "\n",
    "import pandas as pd\n",
    "\n",
    "from pprint import pprint\n",
    "\n",
    "import string"
   ]
  },
  {
   "cell_type": "markdown",
   "metadata": {},
   "source": [
    "# Helper Functions"
   ]
  },
  {
   "cell_type": "code",
   "execution_count": 2,
   "metadata": {},
   "outputs": [],
   "source": [
    "def fix(input):\n",
    "    \"\"\"\n",
    "    Removes non-ASCII characters, such as UTF-8 characters\n",
    "    \"\"\"\n",
    "    return ''.join(x for x in input if x in string.printable)"
   ]
  },
  {
   "cell_type": "markdown",
   "metadata": {},
   "source": [
    "# Read the pickled contents"
   ]
  },
  {
   "cell_type": "code",
   "execution_count": 3,
   "metadata": {},
   "outputs": [
    {
     "name": "stdout",
     "output_type": "stream",
     "text": [
      "653\n"
     ]
    }
   ],
   "source": [
    "with open(\"./pickles/Bagerhat.pkl\", \"rb\") as f:\n",
    "        all_contents = pickle.load(f)\n",
    "\n",
    "print(len(all_contents))"
   ]
  },
  {
   "cell_type": "markdown",
   "metadata": {},
   "source": [
    "# Types of paragraphs"
   ]
  },
  {
   "cell_type": "code",
   "execution_count": 4,
   "metadata": {},
   "outputs": [],
   "source": [
    "paraghs = [a for a in all_contents if a[0] == 'p']"
   ]
  },
  {
   "cell_type": "code",
   "execution_count": 6,
   "metadata": {},
   "outputs": [
    {
     "name": "stdout",
     "output_type": "stream",
     "text": [
      "['p',\n",
      " 'Body Text',\n",
      " 'The population and housing census is the unique source of reliable and '\n",
      " 'comprehensive data about the size of the population of the country, major '\n",
      " 'socio-economic and socio-demographic characteristics.']\n"
     ]
    }
   ],
   "source": [
    "pprint(paraghs[100])"
   ]
  },
  {
   "cell_type": "code",
   "execution_count": 10,
   "metadata": {},
   "outputs": [
    {
     "name": "stdout",
     "output_type": "stream",
     "text": [
      "{'Body Text': 96,\n",
      " 'Heading 1': 11,\n",
      " 'Heading 2': 1,\n",
      " 'Heading 3': 13,\n",
      " 'Heading 4': 2,\n",
      " 'Heading 5': 2,\n",
      " 'Heading 6': 35,\n",
      " 'List Paragraph': 179,\n",
      " 'Normal': 144}\n"
     ]
    }
   ],
   "source": [
    "para_styles = {}\n",
    "\n",
    "for p in paraghs:\n",
    "    style = p[1]\n",
    "    \n",
    "    if style not in para_styles.keys():\n",
    "        para_styles[style] = 1\n",
    "    else:\n",
    "        para_styles[style] += 1\n",
    "\n",
    "pprint(para_styles)"
   ]
  },
  {
   "cell_type": "code",
   "execution_count": 12,
   "metadata": {},
   "outputs": [
    {
     "name": "stdout",
     "output_type": "stream",
     "text": [
      "[['p', 'Heading 1', 'CHAPTER 2'],\n",
      " ['p', 'Heading 1', 'CHAPTER 3'],\n",
      " ['p', 'Heading 1', 'CHAPTER 4'],\n",
      " ['p', 'Heading 1', 'CHAPTER 5'],\n",
      " ['p', 'Heading 1', 'CHAPTER 6'],\n",
      " ['p', 'Heading 1', 'CHAPTER 7'],\n",
      " ['p', 'Heading 1', 'CHAPTER 8'],\n",
      " ['p', 'Heading 1', 'CHAPTER 9'],\n",
      " ['p', 'Heading 1', 'CHAPTER 10'],\n",
      " ['p', 'Heading 1', 'CHAPTER 11'],\n",
      " ['p', 'Heading 1', 'CHAPTER 12']]\n"
     ]
    }
   ],
   "source": [
    "heading1_paraghs =  [a for a in paraghs if a[1] == 'Heading 1']\n",
    "\n",
    "pprint(heading1_paraghs)"
   ]
  },
  {
   "cell_type": "code",
   "execution_count": 13,
   "metadata": {},
   "outputs": [
    {
     "name": "stdout",
     "output_type": "stream",
     "text": [
      "[['p',\n",
      "  'List Paragraph',\n",
      "  'Union: Smallest administrative rural geographic unit comprising of mauzas '\n",
      "  'and villages and having union parishad institution.'],\n",
      " ['p',\n",
      "  'List Paragraph',\n",
      "  'Mauza: Mauza is the lowest administrative unit having a separate '\n",
      "  'jurisdiction list number (J.L. No.) in revenue records. Every mauza has its '\n",
      "  'well-demarcated cadastral map. Mauza should be distinguished from local '\n",
      "  'village since a mauza may consist of one or more villages.'],\n",
      " ['p',\n",
      "  'List Paragraph',\n",
      "  'Village: Lowest rural geographic unit either equivalent to a mauza or part '\n",
      "  'of a mauza.'],\n",
      " ['p',\n",
      "  'List Paragraph',\n",
      "  'Ward: Smallest administrative urban geographic unit comprising of mahallas '\n",
      "  'and having ward council institution.'],\n",
      " ['p',\n",
      "  'List Paragraph',\n",
      "  'Mahalla: Lowest urban geographic unit having identifiable boundaries.'],\n",
      " ['p',\n",
      "  'List Paragraph',\n",
      "  'City Corporation: It includes city corporation area declared by the '\n",
      "  'Ministry of Local Government.'],\n",
      " ['p',\n",
      "  'List Paragraph',\n",
      "  'Paurashava/Municipality Area: It includes paurashavas incorporated and '\n",
      "  'administered by local government under Paurashava Ordinance, 1977.'],\n",
      " ['p',\n",
      "  'List Paragraph',\n",
      "  'small: Farm holdings having minimum cultivated land 0.05 acre but operated '\n",
      "  'land more than this minimum but upto 2.49 acres.'],\n",
      " ['p',\n",
      "  'List Paragraph',\n",
      "  'medium: Farm holdings having operated land in between 2.50 to 7.49 acres.'],\n",
      " ['p',\n",
      "  'List Paragraph',\n",
      "  'large: Farm holdings having operated land 7.50 acres and above.']]\n"
     ]
    }
   ],
   "source": [
    "list_paraghs =  [a for a in paraghs if a[1] == 'List Paragraph']\n",
    "\n",
    "pprint(list_paraghs[:10])"
   ]
  },
  {
   "cell_type": "markdown",
   "metadata": {},
   "source": [
    "# Types of tables"
   ]
  },
  {
   "cell_type": "code",
   "execution_count": 14,
   "metadata": {},
   "outputs": [],
   "source": [
    "tables = [a for a in all_contents if a[0] == 't']"
   ]
  },
  {
   "cell_type": "code",
   "execution_count": 15,
   "metadata": {},
   "outputs": [
    {
     "name": "stdout",
     "output_type": "stream",
     "text": [
      "170\n"
     ]
    }
   ],
   "source": [
    "print(len(tables))"
   ]
  },
  {
   "cell_type": "code",
   "execution_count": 16,
   "metadata": {},
   "outputs": [
    {
     "name": "stdout",
     "output_type": "stream",
     "text": [
      "['t',\n",
      " [['Upazila', 'Muslim', 'Hindu', 'Buddhist', 'Christian', 'Others', 'Total'],\n",
      "  ['Bagerhat Sadar', '219207', '46547', '561', '4', '70', '266389'],\n",
      "  ['Chitalmari', '92739', '46003', '58', '2', '8', '138810'],\n",
      "  ['Fakirhat', '104951', '32628', '57', '0', '153', '137789'],\n",
      "  ['Kachua', '78645', '18347', '19', '0', '0', '97011'],\n",
      "  ['Mollahat', '104335', '26302', '89', '0', '152', '130878'],\n",
      "  ['Mongla', '102298', '29426', '4837', '21', '6', '136588'],\n",
      "  ['Morrelgonj', '263332', '31136', '34', '2', '72', '294576'],\n",
      "  ['Rampal', '123250', '31253', '448', '10', '4', '154965'],\n",
      "  ['Sarankhola', '109836', '9232', '12', '4', '0', '119084'],\n",
      "  ['Total', '1198593', '270874', '6115', '43', '465', '1476090']]]\n"
     ]
    }
   ],
   "source": [
    "pprint(tables[10])"
   ]
  },
  {
   "cell_type": "code",
   "execution_count": 17,
   "metadata": {},
   "outputs": [
    {
     "data": {
      "text/html": [
       "<div>\n",
       "<style scoped>\n",
       "    .dataframe tbody tr th:only-of-type {\n",
       "        vertical-align: middle;\n",
       "    }\n",
       "\n",
       "    .dataframe tbody tr th {\n",
       "        vertical-align: top;\n",
       "    }\n",
       "\n",
       "    .dataframe thead th {\n",
       "        text-align: right;\n",
       "    }\n",
       "</style>\n",
       "<table border=\"1\" class=\"dataframe\">\n",
       "  <thead>\n",
       "    <tr style=\"text-align: right;\">\n",
       "      <th></th>\n",
       "      <th>0</th>\n",
       "      <th>1</th>\n",
       "      <th>2</th>\n",
       "      <th>3</th>\n",
       "      <th>4</th>\n",
       "      <th>5</th>\n",
       "      <th>6</th>\n",
       "    </tr>\n",
       "  </thead>\n",
       "  <tbody>\n",
       "    <tr>\n",
       "      <th>0</th>\n",
       "      <td>Upazila</td>\n",
       "      <td>Muslim</td>\n",
       "      <td>Hindu</td>\n",
       "      <td>Buddhist</td>\n",
       "      <td>Christian</td>\n",
       "      <td>Others</td>\n",
       "      <td>Total</td>\n",
       "    </tr>\n",
       "    <tr>\n",
       "      <th>1</th>\n",
       "      <td>Bagerhat Sadar</td>\n",
       "      <td>219207</td>\n",
       "      <td>46547</td>\n",
       "      <td>561</td>\n",
       "      <td>4</td>\n",
       "      <td>70</td>\n",
       "      <td>266389</td>\n",
       "    </tr>\n",
       "    <tr>\n",
       "      <th>2</th>\n",
       "      <td>Chitalmari</td>\n",
       "      <td>92739</td>\n",
       "      <td>46003</td>\n",
       "      <td>58</td>\n",
       "      <td>2</td>\n",
       "      <td>8</td>\n",
       "      <td>138810</td>\n",
       "    </tr>\n",
       "    <tr>\n",
       "      <th>3</th>\n",
       "      <td>Fakirhat</td>\n",
       "      <td>104951</td>\n",
       "      <td>32628</td>\n",
       "      <td>57</td>\n",
       "      <td>0</td>\n",
       "      <td>153</td>\n",
       "      <td>137789</td>\n",
       "    </tr>\n",
       "    <tr>\n",
       "      <th>4</th>\n",
       "      <td>Kachua</td>\n",
       "      <td>78645</td>\n",
       "      <td>18347</td>\n",
       "      <td>19</td>\n",
       "      <td>0</td>\n",
       "      <td>0</td>\n",
       "      <td>97011</td>\n",
       "    </tr>\n",
       "    <tr>\n",
       "      <th>5</th>\n",
       "      <td>Mollahat</td>\n",
       "      <td>104335</td>\n",
       "      <td>26302</td>\n",
       "      <td>89</td>\n",
       "      <td>0</td>\n",
       "      <td>152</td>\n",
       "      <td>130878</td>\n",
       "    </tr>\n",
       "    <tr>\n",
       "      <th>6</th>\n",
       "      <td>Mongla</td>\n",
       "      <td>102298</td>\n",
       "      <td>29426</td>\n",
       "      <td>4837</td>\n",
       "      <td>21</td>\n",
       "      <td>6</td>\n",
       "      <td>136588</td>\n",
       "    </tr>\n",
       "    <tr>\n",
       "      <th>7</th>\n",
       "      <td>Morrelgonj</td>\n",
       "      <td>263332</td>\n",
       "      <td>31136</td>\n",
       "      <td>34</td>\n",
       "      <td>2</td>\n",
       "      <td>72</td>\n",
       "      <td>294576</td>\n",
       "    </tr>\n",
       "    <tr>\n",
       "      <th>8</th>\n",
       "      <td>Rampal</td>\n",
       "      <td>123250</td>\n",
       "      <td>31253</td>\n",
       "      <td>448</td>\n",
       "      <td>10</td>\n",
       "      <td>4</td>\n",
       "      <td>154965</td>\n",
       "    </tr>\n",
       "    <tr>\n",
       "      <th>9</th>\n",
       "      <td>Sarankhola</td>\n",
       "      <td>109836</td>\n",
       "      <td>9232</td>\n",
       "      <td>12</td>\n",
       "      <td>4</td>\n",
       "      <td>0</td>\n",
       "      <td>119084</td>\n",
       "    </tr>\n",
       "    <tr>\n",
       "      <th>10</th>\n",
       "      <td>Total</td>\n",
       "      <td>1198593</td>\n",
       "      <td>270874</td>\n",
       "      <td>6115</td>\n",
       "      <td>43</td>\n",
       "      <td>465</td>\n",
       "      <td>1476090</td>\n",
       "    </tr>\n",
       "  </tbody>\n",
       "</table>\n",
       "</div>"
      ],
      "text/plain": [
       "                 0        1       2         3          4       5        6\n",
       "0          Upazila   Muslim   Hindu  Buddhist  Christian  Others    Total\n",
       "1   Bagerhat Sadar   219207   46547       561          4      70   266389\n",
       "2       Chitalmari    92739   46003        58          2       8   138810\n",
       "3         Fakirhat   104951   32628        57          0     153   137789\n",
       "4           Kachua    78645   18347        19          0       0    97011\n",
       "5         Mollahat   104335   26302        89          0     152   130878\n",
       "6           Mongla   102298   29426      4837         21       6   136588\n",
       "7       Morrelgonj   263332   31136        34          2      72   294576\n",
       "8           Rampal   123250   31253       448         10       4   154965\n",
       "9       Sarankhola   109836    9232        12          4       0   119084\n",
       "10           Total  1198593  270874      6115         43     465  1476090"
      ]
     },
     "execution_count": 17,
     "metadata": {},
     "output_type": "execute_result"
    }
   ],
   "source": [
    "sample_table = tables[10][1]\n",
    "\n",
    "df = pd.DataFrame(sample_table)\n",
    "\n",
    "df"
   ]
  }
 ],
 "metadata": {
  "kernelspec": {
   "display_name": "Python 3",
   "language": "python",
   "name": "python3"
  },
  "language_info": {
   "codemirror_mode": {
    "name": "ipython",
    "version": 3
   },
   "file_extension": ".py",
   "mimetype": "text/x-python",
   "name": "python",
   "nbconvert_exporter": "python",
   "pygments_lexer": "ipython3",
   "version": "3.8.5"
  }
 },
 "nbformat": 4,
 "nbformat_minor": 4
}
