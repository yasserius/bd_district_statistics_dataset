{
 "cells": [
  {
   "cell_type": "markdown",
   "metadata": {},
   "source": [
    "# Introduction"
   ]
  },
  {
   "cell_type": "markdown",
   "metadata": {},
   "source": [
    "This notebook is not fixed for all files, since many of the 64 pickle files will cause error when running.\n",
    "The document is mainly used to merge some tables and clean empty paragraphs and remove unnecessary punctuation.\n",
    "Then the table and paragraph blocks are taken and sliced into chapters and exported.\n",
    "\n",
    "You can change the `INDEX` to process each file, and errors will show up in many of the `INDEX` values."
   ]
  },
  {
   "cell_type": "code",
   "execution_count": 2,
   "metadata": {},
   "outputs": [],
   "source": [
    "import pickle\n",
    "import glob\n",
    "from pprint import pprint"
   ]
  },
  {
   "cell_type": "code",
   "execution_count": 3,
   "metadata": {},
   "outputs": [
    {
     "name": "stdout",
     "output_type": "stream",
     "text": [
      "# pickle files: 64\n"
     ]
    }
   ],
   "source": [
    "pkl_files = list(glob.glob(\"./pickles/*.pkl\"))\n",
    "\n",
    "print(\"# pickle files:\", len(pkl_files))"
   ]
  },
  {
   "cell_type": "code",
   "execution_count": 1819,
   "metadata": {},
   "outputs": [
    {
     "name": "stdout",
     "output_type": "stream",
     "text": [
      "Processing ./pickles\\Thakurgaon.pkl\n",
      "1091\n"
     ]
    }
   ],
   "source": [
    "# you can change this index to choose the files from pkl_files\n",
    "# the index can be from 0 to 63\n",
    "INDEX = 63\n",
    "\n",
    "with open(pkl_files[INDEX], 'rb') as f:\n",
    "    print(\"Processing\", pkl_files[INDEX])\n",
    "    contents = pickle.load(f)\n",
    "\n",
    "print(len(contents))"
   ]
  },
  {
   "cell_type": "markdown",
   "metadata": {},
   "source": [
    "# Merging tables"
   ]
  },
  {
   "cell_type": "code",
   "execution_count": 1820,
   "metadata": {},
   "outputs": [
    {
     "name": "stdout",
     "output_type": "stream",
     "text": [
      "Length before merging: 1091\n",
      "Merged table at 422\n",
      "Merged table at 425\n",
      "Merged table at 428\n",
      "Merged table at 431\n",
      "Merged table at 434\n",
      "Merged table at 437\n",
      "Merged table at 440\n",
      "Merged table at 443\n",
      "Merged table at 446\n",
      "Merged table at 449\n",
      "Merged table at 452\n",
      "Merged table at 455\n",
      "Merged table at 464\n",
      "Merged table at 467\n",
      "Merged table at 470\n",
      "Merged table at 480\n",
      "Merged table at 483\n",
      "Merged table at 486\n",
      "Merged table at 489\n",
      "Merged table at 492\n",
      "Merged table at 495\n",
      "Merged table at 498\n",
      "Merged table at 501\n",
      "Merged table at 504\n",
      "Merged table at 507\n",
      "Merged table at 511\n",
      "Merged table at 514\n",
      "Merged table at 517\n",
      "Merged table at 520\n",
      "Merged table at 523\n",
      "Merged table at 528\n",
      "Merged table at 533\n",
      "Merged table at 538\n",
      "Merged table at 543\n",
      "Merged table at 548\n",
      "Merged table at 552\n",
      "Merged table at 556\n",
      "Merged table at 561\n",
      "Merged table at 566\n",
      "Merged table at 571\n",
      "Merged table at 576\n",
      "Merged table at 581\n",
      "Merged table at 586\n",
      "Merged table at 591\n",
      "Merged table at 596\n",
      "Merged table at 601\n",
      "Merged table at 606\n",
      "Merged table at 611\n",
      "Merged table at 615\n",
      "Merged table at 619\n",
      "Merged table at 623\n",
      "Merged table at 627\n",
      "Merged table at 632\n",
      "Merged table at 637\n",
      "Merged table at 641\n",
      "Merged table at 645\n",
      "Merged table at 649\n",
      "Merged table at 653\n",
      "Merged table at 658\n",
      "Merged table at 663\n",
      "Merged table at 667\n",
      "Merged table at 672\n",
      "Merged table at 677\n",
      "Merged table at 682\n",
      "Merged table at 687\n",
      "Merged table at 697\n",
      "Merged table at 700\n",
      "Merged table at 703\n",
      "Merged table at 706\n",
      "Merged table at 709\n",
      "Merged table at 712\n",
      "Merged table at 715\n",
      "Merged table at 718\n",
      "Merged table at 721\n",
      "Merged table at 724\n",
      "Merged table at 727\n",
      "Merged table at 730\n",
      "Merged table at 733\n",
      "Merged table at 736\n",
      "Merged table at 739\n",
      "Merged table at 742\n",
      "Merged table at 745\n",
      "Merged table at 748\n",
      "Merged table at 751\n",
      "Merged table at 754\n",
      "Merged table at 763\n",
      "Merged table at 766\n",
      "Merged table at 769\n",
      "Merged table at 772\n",
      "Merged table at 775\n",
      "Merged table at 778\n",
      "Merged table at 781\n",
      "Merged table at 784\n",
      "Merged table at 787\n",
      "Merged table at 790\n",
      "Merged table at 793\n",
      "Merged table at 796\n",
      "Merged table at 799\n",
      "Merged table at 802\n",
      "Merged table at 805\n",
      "Merged table at 808\n",
      "Merged table at 817\n",
      "Merged table at 820\n",
      "Merged table at 823\n",
      "Merged table at 826\n",
      "Merged table at 829\n",
      "Merged table at 832\n",
      "Merged table at 835\n",
      "Merged table at 838\n",
      "Merged table at 841\n",
      "Merged table at 844\n",
      "Merged table at 847\n",
      "Merged table at 850\n",
      "Merged table at 853\n",
      "Merged table at 858\n",
      "Merged table at 861\n",
      "Merged table at 864\n",
      "Merged table at 867\n",
      "Merged table at 876\n",
      "Merged table at 880\n",
      "Merged table at 884\n",
      "Merged table at 887\n",
      "Merged table at 890\n",
      "Merged table at 893\n",
      "Merged table at 896\n",
      "Merged table at 906\n",
      "Merged table at 910\n",
      "Merged table at 914\n",
      "Merged table at 918\n",
      "Merged table at 922\n",
      "Merged table at 926\n",
      "Merged table at 930\n",
      "Merged table at 938\n",
      "Merged table at 941\n",
      "Merged table at 944\n",
      "Merged table at 947\n",
      "Merged table at 950\n",
      "Merged table at 953\n",
      "Merged table at 956\n",
      "Merged table at 959\n",
      "Merged table at 962\n",
      "Merged table at 965\n",
      "Merged table at 968\n",
      "Merged table at 971\n",
      "Merged table at 974\n",
      "Merged table at 977\n",
      "Merged table at 980\n",
      "Merged table at 983\n",
      "Merged table at 991\n",
      "Merged table at 994\n",
      "Merged table at 997\n",
      "Merged table at 1000\n",
      "Merged table at 1003\n",
      "Merged table at 1006\n",
      "Merged table at 1009\n",
      "Merged table at 1012\n",
      "Merged table at 1015\n",
      "Merged table at 1018\n",
      "Merged table at 1021\n",
      "Merged table at 1024\n",
      "Merged table at 1027\n",
      "Merged table at 1030\n",
      "Merged table at 1037\n",
      "Merged table at 1040\n",
      "Merged table at 1043\n",
      "Merged table at 1046\n",
      "Length after merging 894\n"
     ]
    }
   ],
   "source": [
    "def merge_tables(input_list):\n",
    "    \"\"\"\n",
    "    If two table blocks are next to each other, merge them.\n",
    "    If the length of a paragraph is less than 5, don't add it and discard it.\n",
    "    \"\"\"\n",
    "    print(\"Length before merging:\", len(input_list))\n",
    "    \n",
    "    output = []\n",
    "    i = 0\n",
    "    while i < len(input_list)-1:\n",
    "        # if there are two tables right next to each other\n",
    "        if input_list[i][0] == 't' and input_list[i+1][0] == 't':\n",
    "            print(\"Merged table at\", i)\n",
    "            output.append(['t', input_list[i][1] +  input_list[i+1][1]])\n",
    "            i+=2\n",
    "        else:\n",
    "            # otherwise, if a single table or a paragraph with greater than 5 characters\n",
    "            if input_list[i][0] == 't' or \\\n",
    "            (input_list[i][0] == 'p' and len(input_list[i][2]) > 5):\n",
    "                output.append(input_list[i])\n",
    "            i+=1\n",
    "    print(\"Length after merging\", len(output))\n",
    "    \n",
    "    return output\n",
    "\n",
    "contents = merge_tables(contents)"
   ]
  },
  {
   "cell_type": "code",
   "execution_count": 1821,
   "metadata": {},
   "outputs": [
    {
     "data": {
      "text/plain": [
       "{'p': 727, 't': 167}"
      ]
     },
     "execution_count": 1821,
     "metadata": {},
     "output_type": "execute_result"
    }
   ],
   "source": [
    "def count(input_list):\n",
    "    \"\"\"\n",
    "    Returns the number of tables and paragraph objects in the input list.\n",
    "    \"\"\"\n",
    "    counts = {\n",
    "        'p': 0,\n",
    "        't': 0\n",
    "    }\n",
    "    \n",
    "    for item in input_list:\n",
    "        if item[0] == 'p':\n",
    "            counts['p'] += 1\n",
    "        elif item[0] == 't':\n",
    "            counts['t'] += 1\n",
    "    \n",
    "    return counts\n",
    "\n",
    "count(contents)"
   ]
  },
  {
   "cell_type": "markdown",
   "metadata": {},
   "source": [
    "# Chapterwise slicing"
   ]
  },
  {
   "cell_type": "code",
   "execution_count": 1822,
   "metadata": {},
   "outputs": [],
   "source": [
    "# types = []\n",
    "\n",
    "# for a in contents:\n",
    "#     if a[0] == 'p' and a[1] not in types:\n",
    "#         types.append(a[1])\n",
    "        \n",
    "# pprint(types)"
   ]
  },
  {
   "cell_type": "code",
   "execution_count": 1823,
   "metadata": {},
   "outputs": [
    {
     "name": "stdout",
     "output_type": "stream",
     "text": [
      "Heading 1 CHAPTER 1 288\n",
      "Heading 1 CHAPTER 2 414\n",
      "Heading 1 CHAPTER 3 445\n",
      "Heading 1 CHAPTER 4 455\n",
      "Heading 1 CHAPTER 5 600\n",
      "Heading 1 CHAPTER 6 646\n",
      "Heading 1 CHAPTER 7 684\n",
      "Heading 1 CHAPTER 8 724\n",
      "Heading 1 CHAPTER 9 746\n",
      "Heading 1 CHAPTER 10 772\n",
      "Heading 1 CHAPTER 11 809\n",
      "Heading 1 CHAPTER 12 841\n"
     ]
    }
   ],
   "source": [
    "# looking for the chapter titles and their indices\n",
    "\n",
    "for a in contents:\n",
    "    if a[0] == 'p' and \"CHAPTER\" in a[2]:\n",
    "        print(a[1], a[2], contents.index(a))"
   ]
  },
  {
   "cell_type": "code",
   "execution_count": 1824,
   "metadata": {},
   "outputs": [],
   "source": [
    "def remove_punctuation(input_str):\n",
    "    punctuations = '''!()-[]{};:'\"\\,<>./?@#$%^&*_~'''\n",
    "    \n",
    "    no_punct = \"\"\n",
    "    for char in input_str:\n",
    "        if char not in punctuations:\n",
    "            no_punct = no_punct + char\n",
    "    no_punct = no_punct.replace(\"  \", \" \")\n",
    "            \n",
    "    return no_punct"
   ]
  },
  {
   "cell_type": "code",
   "execution_count": 1825,
   "metadata": {},
   "outputs": [
    {
     "name": "stdout",
     "output_type": "stream",
     "text": [
      "{'CHAPTER 1': 288,\n",
      " 'CHAPTER 10': 772,\n",
      " 'CHAPTER 11': 809,\n",
      " 'CHAPTER 12': 841,\n",
      " 'CHAPTER 2': 414,\n",
      " 'CHAPTER 3': 445,\n",
      " 'CHAPTER 4': 455,\n",
      " 'CHAPTER 5': 600,\n",
      " 'CHAPTER 6': 646,\n",
      " 'CHAPTER 7': 684,\n",
      " 'CHAPTER 8': 724,\n",
      " 'CHAPTER 9': 746,\n",
      " 'END': 893,\n",
      " 'START': 0}\n"
     ]
    }
   ],
   "source": [
    "chapter_indices = {}\n",
    "\n",
    "chapter_indices[\"START\"] = 0\n",
    "chapter_indices[\"END\"] = len(contents)-1\n",
    "\n",
    "for i, a in enumerate(contents):\n",
    "        if a[1] == \"Heading 1\": # this 'Heading 1' causes errors in some files, change it to other\n",
    "            cleaned_title = remove_punctuation(a[2]).replace(\"  \", \" \")\n",
    "            chapter_indices[cleaned_title] = i\n",
    "\n",
    "pprint(chapter_indices)"
   ]
  },
  {
   "cell_type": "code",
   "execution_count": 1826,
   "metadata": {},
   "outputs": [],
   "source": [
    "# you can manually change the chapter indices\n",
    "\n",
    "# chapter_indices['CHAPTER 3'] = 309"
   ]
  },
  {
   "cell_type": "code",
   "execution_count": 1827,
   "metadata": {},
   "outputs": [],
   "source": [
    "# print(list(chapter_indices.keys()))"
   ]
  },
  {
   "cell_type": "code",
   "execution_count": 1829,
   "metadata": {},
   "outputs": [],
   "source": [
    "# this is a dictionary that will contain the chapterwise sorted content\n",
    "chapterwise_content = {}\n",
    "\n",
    "for i in range(1, 13):\n",
    "    if i == 0:\n",
    "        chap_no = \"START\"\n",
    "    else:\n",
    "        chap_no = \"CHAPTER {}\".format(i)\n",
    "    \n",
    "    if i == 12:\n",
    "        next_chap = \"END\"\n",
    "    else:\n",
    "        next_chap = \"CHAPTER {}\".format(i+1)\n",
    "        \n",
    "    if chap_no in chapter_indices.keys():\n",
    "        chap_start = chapter_indices[chap_no] + 1\n",
    "        chap_end = chapter_indices[next_chap]\n",
    "        chapterwise_content[chap_no] = contents[chap_start:chap_end]\n",
    "    else:\n",
    "        print(\"[ERROR]\", chap_no, \"missing\")"
   ]
  },
  {
   "cell_type": "code",
   "execution_count": null,
   "metadata": {},
   "outputs": [],
   "source": [
    "# count the number of table and paragh blocks in each chapter\n",
    "\n",
    "for x,y in chapterwise_content.items():\n",
    "    print(x, \"---\", len(y), \"blocks\")"
   ]
  },
  {
   "cell_type": "code",
   "execution_count": 1831,
   "metadata": {},
   "outputs": [
    {
     "name": "stdout",
     "output_type": "stream",
     "text": [
      "[['p', 'Normal', 'General Information'],\n",
      " ['p', 'Heading 4', 'General Information'],\n",
      " ['p', 'List Paragraph', 'Broad classification of area 2011'],\n",
      " ['p', 'Normal', '(In sq. km.)'],\n",
      " ['t',\n",
      "  [['Upazila', 'Total area', 'Land area', 'Reserve\\nforest', 'Riverine\\narea'],\n",
      "   ['Baliadangi', '284.12', '234.12', '0', '50.00'],\n",
      "   ['Haripur', '201.07', '199.96', '0', '1.11'],\n",
      "   ['Pirgonj', '353.99', '346.88', '4.28', '2.83'],\n",
      "   ['Ranisankail', '287.59', '283.34', '0.23', '4.02'],\n",
      "   ['Thakurgaon Sadar', '654.95', '651.81', '0.36', '2.78'],\n",
      "   ['Total', '1781.72', '1716.11', '4.87', '60.74']]],\n",
      " ['p',\n",
      "  'List Paragraph',\n",
      "  'Number of municipality, union, mauza, mahalla and village 2011'],\n",
      " ['t',\n",
      "  [['Upazila',\n",
      "    'Municipality',\n",
      "    'Ward\\n(PSA)',\n",
      "    'Mahalla',\n",
      "    'Union',\n",
      "    'Mauza',\n",
      "    'Village',\n",
      "    'Depopulated\\nmauza'],\n",
      "   ['Baliadangi', '0', '0', '0', '8', '78', '78', '0'],\n",
      "   ['Haripur', '0', '0', '0', '6', '75', '73', '3'],\n",
      "   ['Pirgonj', '1', '9', '11', '10', '168', '168', '0'],\n",
      "   ['Ranisankail', '1', '9', '18', '8', '124', '124', '0'],\n",
      "   ['Thakurgaon Sadar', '1', '12', '30', '19', '194', '198', '0'],\n",
      "   ['Total', '3', '30', '59', '51', '639', '641', '3']]],\n",
      " ['p', 'List Paragraph', 'Number of household, population and density 2011']]\n"
     ]
    }
   ],
   "source": [
    "pprint(chapterwise_content['CHAPTER 2'][:8])"
   ]
  },
  {
   "cell_type": "code",
   "execution_count": 1832,
   "metadata": {},
   "outputs": [
    {
     "name": "stdout",
     "output_type": "stream",
     "text": [
      "Successfully created ./pickles2/Thakurgaon.pkl\n"
     ]
    }
   ],
   "source": [
    "district_name = pkl_files[INDEX].split(\"\\\\\")[-1].split(\".\")[0]\n",
    "\n",
    "# you should create a `pickle2 directory`\n",
    "output_file_name = \"./pickles2/{}.pkl\".format(district_name)\n",
    "\n",
    "with open(output_file_name, 'wb') as f:\n",
    "    pickle.dump(chapterwise_content, f)\n",
    "    print(\"Successfully created\", output_file_name)"
   ]
  }
 ],
 "metadata": {
  "kernelspec": {
   "display_name": "Python 3",
   "language": "python",
   "name": "python3"
  },
  "language_info": {
   "codemirror_mode": {
    "name": "ipython",
    "version": 3
   },
   "file_extension": ".py",
   "mimetype": "text/x-python",
   "name": "python",
   "nbconvert_exporter": "python",
   "pygments_lexer": "ipython3",
   "version": "3.8.3"
  }
 },
 "nbformat": 4,
 "nbformat_minor": 4
}
